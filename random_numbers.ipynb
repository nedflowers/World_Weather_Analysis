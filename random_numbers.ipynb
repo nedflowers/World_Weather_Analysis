{
 "cells": [
  {
   "cell_type": "code",
   "execution_count": 2,
   "id": "b5008cd8",
   "metadata": {},
   "outputs": [],
   "source": [
    "# Import the rando module\n",
    "import random\n",
    "import numpy as np"
   ]
  },
  {
   "cell_type": "code",
   "execution_count": 3,
   "id": "010e31f7",
   "metadata": {},
   "outputs": [
    {
     "data": {
      "text/plain": [
       "40"
      ]
     },
     "execution_count": 3,
     "metadata": {},
     "output_type": "execute_result"
    }
   ],
   "source": [
    "random.randint(-90,90)"
   ]
  },
  {
   "cell_type": "code",
   "execution_count": 4,
   "id": "d8f812f4",
   "metadata": {},
   "outputs": [
    {
     "data": {
      "text/plain": [
       "0.6581915577687345"
      ]
     },
     "execution_count": 4,
     "metadata": {},
     "output_type": "execute_result"
    }
   ],
   "source": [
    "random.random()"
   ]
  },
  {
   "cell_type": "code",
   "execution_count": 5,
   "id": "481b8c4c",
   "metadata": {},
   "outputs": [
    {
     "data": {
      "text/plain": [
       "85.61304972185017"
      ]
     },
     "execution_count": 5,
     "metadata": {},
     "output_type": "execute_result"
    }
   ],
   "source": [
    "random_number = random.randint(-90,89) + random.random()\n",
    "random_number"
   ]
  },
  {
   "cell_type": "code",
   "execution_count": 6,
   "id": "520979c9",
   "metadata": {},
   "outputs": [
    {
     "data": {
      "text/plain": [
       "[-31.41055366521658,\n",
       " 54.1544485315744,\n",
       " 14.158300394047902,\n",
       " -74.37359408283403,\n",
       " -75.02310803207138,\n",
       " -3.6944715471814127,\n",
       " 19.19737600532806,\n",
       " -32.64506113628882,\n",
       " -27.2856925327415,\n",
       " 22.461360257458853]"
      ]
     },
     "execution_count": 6,
     "metadata": {},
     "output_type": "execute_result"
    }
   ],
   "source": [
    "# Write algorithm to generate lats\n",
    "x = 1\n",
    "latitudes = []\n",
    "while x < 11:\n",
    "    random_lat = random.randint(-90, 89) + random.random()\n",
    "    latitudes.append(random_lat)\n",
    "    x += 1\n",
    "    \n",
    "latitudes"
   ]
  },
  {
   "cell_type": "code",
   "execution_count": 7,
   "id": "a5de912c",
   "metadata": {},
   "outputs": [
    {
     "data": {
      "text/plain": [
       "-3"
      ]
     },
     "execution_count": 7,
     "metadata": {},
     "output_type": "execute_result"
    }
   ],
   "source": [
    "random.randrange(-90,90, step=1)"
   ]
  },
  {
   "cell_type": "code",
   "execution_count": 8,
   "id": "8d63fa28",
   "metadata": {},
   "outputs": [
    {
     "data": {
      "text/plain": [
       "-90"
      ]
     },
     "execution_count": 8,
     "metadata": {},
     "output_type": "execute_result"
    }
   ],
   "source": [
    "random.randrange(-90,90, step=3)"
   ]
  },
  {
   "cell_type": "code",
   "execution_count": 9,
   "id": "032e88e2",
   "metadata": {},
   "outputs": [
    {
     "data": {
      "text/plain": [
       "-23.682041380523202"
      ]
     },
     "execution_count": 9,
     "metadata": {},
     "output_type": "execute_result"
    }
   ],
   "source": [
    "random.uniform(-90,90)"
   ]
  },
  {
   "cell_type": "code",
   "execution_count": 10,
   "id": "5a1238df",
   "metadata": {},
   "outputs": [
    {
     "data": {
      "text/plain": [
       "39.788874103726414"
      ]
     },
     "execution_count": 10,
     "metadata": {},
     "output_type": "execute_result"
    }
   ],
   "source": [
    "# Import numpy\n",
    "import numpy as np\n",
    "np.random.uniform(-90.000, 90.000)"
   ]
  },
  {
   "cell_type": "code",
   "execution_count": 11,
   "id": "c47015c9",
   "metadata": {},
   "outputs": [
    {
     "data": {
      "text/plain": [
       "array([ 20.20451533, -58.71198563,  18.97063168, -57.60107711,\n",
       "        28.22320348, -18.48796271,  52.62846967, -34.62731134,\n",
       "       -63.56212584, -81.06849244, -58.025341  , -33.00343756,\n",
       "        66.81653707,  67.87321028, -22.96439256,  24.35326358,\n",
       "         8.89888875, -30.12753487,  25.52074062, -35.67952043,\n",
       "        58.38267085, -45.44462286, -48.28667774,  -7.11610718,\n",
       "       -70.41250596, -45.69052851,  63.67343566,  78.17426724,\n",
       "       -23.13099762, -45.40494544,  46.34071041, -74.408476  ,\n",
       "       -44.8574973 ,   3.69556404, -54.41381577, -88.38247962,\n",
       "        -7.67260972,  41.88113796, -28.12534135,  -6.90563975,\n",
       "       -32.17924636, -60.40277867,   2.65060021,  43.23201188,\n",
       "         4.24967971,  69.55608383,   6.10533842,  72.43895742,\n",
       "       -15.871671  , -66.85067098])"
      ]
     },
     "execution_count": 11,
     "metadata": {},
     "output_type": "execute_result"
    }
   ],
   "source": [
    "np.random.uniform(-90,90, size=50)"
   ]
  },
  {
   "cell_type": "code",
   "execution_count": 12,
   "id": "118ae7e3",
   "metadata": {},
   "outputs": [
    {
     "name": "stdout",
     "output_type": "stream",
     "text": [
      "20.1 µs ± 1.38 µs per loop (mean ± std. dev. of 7 runs, 10000 loops each)\n"
     ]
    }
   ],
   "source": [
    "# Import timeit\n",
    "import timeit\n",
    "# How long to run\n",
    "%timeit np.random.uniform(-90.000, 90.000, size=1500)"
   ]
  },
  {
   "cell_type": "code",
   "execution_count": null,
   "id": "280d6410",
   "metadata": {},
   "outputs": [
    {
     "name": "stdout",
     "output_type": "stream",
     "text": [
      "19 µs ± 786 ns per loop (mean ± std. dev. of 7 runs, 10000 loops each)\n",
      "19.1 µs ± 786 ns per loop (mean ± std. dev. of 7 runs, 10000 loops each)\n",
      "21.7 µs ± 2.41 µs per loop (mean ± std. dev. of 7 runs, 10000 loops each)\n",
      "20.1 µs ± 1.09 µs per loop (mean ± std. dev. of 7 runs, 10000 loops each)\n",
      "18.6 µs ± 1.31 µs per loop (mean ± std. dev. of 7 runs, 10000 loops each)\n",
      "21.1 µs ± 2.87 µs per loop (mean ± std. dev. of 7 runs, 10000 loops each)\n",
      "19.8 µs ± 1.44 µs per loop (mean ± std. dev. of 7 runs, 10000 loops each)\n",
      "19 µs ± 323 ns per loop (mean ± std. dev. of 7 runs, 100000 loops each)\n",
      "18.7 µs ± 662 ns per loop (mean ± std. dev. of 7 runs, 100000 loops each)\n",
      "19.4 µs ± 747 ns per loop (mean ± std. dev. of 7 runs, 10000 loops each)\n",
      "21 µs ± 2.34 µs per loop (mean ± std. dev. of 7 runs, 10000 loops each)\n",
      "19.3 µs ± 674 ns per loop (mean ± std. dev. of 7 runs, 10000 loops each)\n",
      "20.6 µs ± 2.24 µs per loop (mean ± std. dev. of 7 runs, 10000 loops each)\n",
      "19.3 µs ± 293 ns per loop (mean ± std. dev. of 7 runs, 100000 loops each)\n",
      "19.8 µs ± 558 ns per loop (mean ± std. dev. of 7 runs, 100000 loops each)\n",
      "19.5 µs ± 1.4 µs per loop (mean ± std. dev. of 7 runs, 10000 loops each)\n",
      "18.6 µs ± 854 ns per loop (mean ± std. dev. of 7 runs, 10000 loops each)\n",
      "19 µs ± 831 ns per loop (mean ± std. dev. of 7 runs, 10000 loops each)\n",
      "19.4 µs ± 1.12 µs per loop (mean ± std. dev. of 7 runs, 10000 loops each)\n",
      "19.3 µs ± 519 ns per loop (mean ± std. dev. of 7 runs, 100000 loops each)\n",
      "19.1 µs ± 703 ns per loop (mean ± std. dev. of 7 runs, 10000 loops each)\n",
      "19.8 µs ± 553 ns per loop (mean ± std. dev. of 7 runs, 100000 loops each)\n",
      "19.1 µs ± 771 ns per loop (mean ± std. dev. of 7 runs, 10000 loops each)\n",
      "19.3 µs ± 194 ns per loop (mean ± std. dev. of 7 runs, 100000 loops each)\n",
      "19.8 µs ± 1.42 µs per loop (mean ± std. dev. of 7 runs, 10000 loops each)\n",
      "18.9 µs ± 900 ns per loop (mean ± std. dev. of 7 runs, 10000 loops each)\n",
      "19.1 µs ± 1.29 µs per loop (mean ± std. dev. of 7 runs, 10000 loops each)\n",
      "19.3 µs ± 1.02 µs per loop (mean ± std. dev. of 7 runs, 10000 loops each)\n",
      "19 µs ± 774 ns per loop (mean ± std. dev. of 7 runs, 10000 loops each)\n",
      "18.8 µs ± 1.49 µs per loop (mean ± std. dev. of 7 runs, 10000 loops each)\n",
      "18.9 µs ± 514 ns per loop (mean ± std. dev. of 7 runs, 10000 loops each)\n",
      "20.2 µs ± 1.16 µs per loop (mean ± std. dev. of 7 runs, 10000 loops each)\n",
      "19.6 µs ± 1.03 µs per loop (mean ± std. dev. of 7 runs, 10000 loops each)\n",
      "18.8 µs ± 338 ns per loop (mean ± std. dev. of 7 runs, 10000 loops each)\n",
      "19 µs ± 473 ns per loop (mean ± std. dev. of 7 runs, 100000 loops each)\n",
      "19.2 µs ± 654 ns per loop (mean ± std. dev. of 7 runs, 100000 loops each)\n",
      "20.7 µs ± 2.17 µs per loop (mean ± std. dev. of 7 runs, 10000 loops each)\n",
      "19 µs ± 337 ns per loop (mean ± std. dev. of 7 runs, 100000 loops each)\n",
      "19.5 µs ± 2.05 µs per loop (mean ± std. dev. of 7 runs, 10000 loops each)\n",
      "19.4 µs ± 815 ns per loop (mean ± std. dev. of 7 runs, 10000 loops each)\n",
      "18.9 µs ± 446 ns per loop (mean ± std. dev. of 7 runs, 10000 loops each)\n",
      "18.7 µs ± 205 ns per loop (mean ± std. dev. of 7 runs, 10000 loops each)\n",
      "18.9 µs ± 269 ns per loop (mean ± std. dev. of 7 runs, 100000 loops each)\n",
      "18.8 µs ± 128 ns per loop (mean ± std. dev. of 7 runs, 100000 loops each)\n",
      "18.7 µs ± 129 ns per loop (mean ± std. dev. of 7 runs, 10000 loops each)\n",
      "18.4 µs ± 1.03 µs per loop (mean ± std. dev. of 7 runs, 10000 loops each)\n",
      "20.5 µs ± 1.03 µs per loop (mean ± std. dev. of 7 runs, 100000 loops each)\n",
      "19.3 µs ± 760 ns per loop (mean ± std. dev. of 7 runs, 10000 loops each)\n",
      "21.1 µs ± 2.23 µs per loop (mean ± std. dev. of 7 runs, 10000 loops each)\n",
      "20 µs ± 1.3 µs per loop (mean ± std. dev. of 7 runs, 100000 loops each)\n",
      "19.3 µs ± 1.05 µs per loop (mean ± std. dev. of 7 runs, 10000 loops each)\n",
      "20.5 µs ± 2.95 µs per loop (mean ± std. dev. of 7 runs, 10000 loops each)\n",
      "18.1 µs ± 434 ns per loop (mean ± std. dev. of 7 runs, 10000 loops each)\n",
      "20.5 µs ± 1.69 µs per loop (mean ± std. dev. of 7 runs, 10000 loops each)\n",
      "18.8 µs ± 473 ns per loop (mean ± std. dev. of 7 runs, 10000 loops each)\n",
      "19.3 µs ± 785 ns per loop (mean ± std. dev. of 7 runs, 10000 loops each)\n",
      "19.2 µs ± 587 ns per loop (mean ± std. dev. of 7 runs, 10000 loops each)\n",
      "20.6 µs ± 1.98 µs per loop (mean ± std. dev. of 7 runs, 10000 loops each)\n",
      "20 µs ± 1.48 µs per loop (mean ± std. dev. of 7 runs, 10000 loops each)\n",
      "19.5 µs ± 699 ns per loop (mean ± std. dev. of 7 runs, 100000 loops each)\n",
      "19.1 µs ± 1.25 µs per loop (mean ± std. dev. of 7 runs, 10000 loops each)\n",
      "20.2 µs ± 2.17 µs per loop (mean ± std. dev. of 7 runs, 10000 loops each)\n",
      "19 µs ± 678 ns per loop (mean ± std. dev. of 7 runs, 10000 loops each)\n",
      "17.6 µs ± 152 ns per loop (mean ± std. dev. of 7 runs, 10000 loops each)\n",
      "19.2 µs ± 421 ns per loop (mean ± std. dev. of 7 runs, 100000 loops each)\n",
      "19.1 µs ± 345 ns per loop (mean ± std. dev. of 7 runs, 100000 loops each)\n",
      "18.9 µs ± 1.75 µs per loop (mean ± std. dev. of 7 runs, 10000 loops each)\n",
      "19 µs ± 241 ns per loop (mean ± std. dev. of 7 runs, 100000 loops each)\n",
      "19.1 µs ± 290 ns per loop (mean ± std. dev. of 7 runs, 100000 loops each)\n",
      "19 µs ± 650 ns per loop (mean ± std. dev. of 7 runs, 10000 loops each)\n",
      "18.5 µs ± 477 ns per loop (mean ± std. dev. of 7 runs, 10000 loops each)\n",
      "18.9 µs ± 301 ns per loop (mean ± std. dev. of 7 runs, 100000 loops each)\n",
      "19 µs ± 2.05 µs per loop (mean ± std. dev. of 7 runs, 10000 loops each)\n",
      "19.1 µs ± 705 ns per loop (mean ± std. dev. of 7 runs, 10000 loops each)\n",
      "18.1 µs ± 1.29 µs per loop (mean ± std. dev. of 7 runs, 10000 loops each)\n",
      "18.8 µs ± 272 ns per loop (mean ± std. dev. of 7 runs, 10000 loops each)\n",
      "18.7 µs ± 488 ns per loop (mean ± std. dev. of 7 runs, 100000 loops each)\n",
      "18.8 µs ± 540 ns per loop (mean ± std. dev. of 7 runs, 10000 loops each)\n",
      "19.3 µs ± 973 ns per loop (mean ± std. dev. of 7 runs, 100000 loops each)\n",
      "19.5 µs ± 883 ns per loop (mean ± std. dev. of 7 runs, 10000 loops each)\n",
      "18.8 µs ± 583 ns per loop (mean ± std. dev. of 7 runs, 10000 loops each)\n",
      "18.7 µs ± 977 ns per loop (mean ± std. dev. of 7 runs, 10000 loops each)\n",
      "18.9 µs ± 322 ns per loop (mean ± std. dev. of 7 runs, 100000 loops each)\n",
      "19.7 µs ± 1.38 µs per loop (mean ± std. dev. of 7 runs, 10000 loops each)\n",
      "18.2 µs ± 769 ns per loop (mean ± std. dev. of 7 runs, 10000 loops each)\n",
      "20.4 µs ± 1.43 µs per loop (mean ± std. dev. of 7 runs, 10000 loops each)\n",
      "19.4 µs ± 687 ns per loop (mean ± std. dev. of 7 runs, 10000 loops each)\n",
      "18.9 µs ± 706 ns per loop (mean ± std. dev. of 7 runs, 100000 loops each)\n",
      "19.1 µs ± 273 ns per loop (mean ± std. dev. of 7 runs, 100000 loops each)\n",
      "19.2 µs ± 1.31 µs per loop (mean ± std. dev. of 7 runs, 10000 loops each)\n",
      "19.6 µs ± 1.19 µs per loop (mean ± std. dev. of 7 runs, 10000 loops each)\n",
      "19.2 µs ± 592 ns per loop (mean ± std. dev. of 7 runs, 100000 loops each)\n",
      "19 µs ± 459 ns per loop (mean ± std. dev. of 7 runs, 100000 loops each)\n",
      "19.3 µs ± 910 ns per loop (mean ± std. dev. of 7 runs, 100000 loops each)\n",
      "20.1 µs ± 1.49 µs per loop (mean ± std. dev. of 7 runs, 100000 loops each)\n",
      "18.9 µs ± 561 ns per loop (mean ± std. dev. of 7 runs, 10000 loops each)\n",
      "19.7 µs ± 1.62 µs per loop (mean ± std. dev. of 7 runs, 10000 loops each)\n",
      "19.4 µs ± 553 ns per loop (mean ± std. dev. of 7 runs, 100000 loops each)\n",
      "19.9 µs ± 1.42 µs per loop (mean ± std. dev. of 7 runs, 10000 loops each)\n",
      "18.9 µs ± 655 ns per loop (mean ± std. dev. of 7 runs, 100000 loops each)\n",
      "20 µs ± 906 ns per loop (mean ± std. dev. of 7 runs, 10000 loops each)\n",
      "18.6 µs ± 497 ns per loop (mean ± std. dev. of 7 runs, 10000 loops each)\n",
      "19.4 µs ± 798 ns per loop (mean ± std. dev. of 7 runs, 100000 loops each)\n",
      "19.1 µs ± 267 ns per loop (mean ± std. dev. of 7 runs, 100000 loops each)\n",
      "19.4 µs ± 660 ns per loop (mean ± std. dev. of 7 runs, 100000 loops each)\n",
      "19.6 µs ± 1.21 µs per loop (mean ± std. dev. of 7 runs, 10000 loops each)\n",
      "19 µs ± 242 ns per loop (mean ± std. dev. of 7 runs, 100000 loops each)\n",
      "19.4 µs ± 1.3 µs per loop (mean ± std. dev. of 7 runs, 10000 loops each)\n",
      "18.9 µs ± 153 ns per loop (mean ± std. dev. of 7 runs, 100000 loops each)\n",
      "19.8 µs ± 1.61 µs per loop (mean ± std. dev. of 7 runs, 10000 loops each)\n",
      "19.3 µs ± 525 ns per loop (mean ± std. dev. of 7 runs, 10000 loops each)\n",
      "19.1 µs ± 1.06 µs per loop (mean ± std. dev. of 7 runs, 10000 loops each)\n"
     ]
    },
    {
     "name": "stdout",
     "output_type": "stream",
     "text": [
      "19.1 µs ± 507 ns per loop (mean ± std. dev. of 7 runs, 10000 loops each)\n",
      "18.9 µs ± 396 ns per loop (mean ± std. dev. of 7 runs, 100000 loops each)\n",
      "21.9 µs ± 2.56 µs per loop (mean ± std. dev. of 7 runs, 10000 loops each)\n",
      "19.3 µs ± 599 ns per loop (mean ± std. dev. of 7 runs, 100000 loops each)\n",
      "18.9 µs ± 647 ns per loop (mean ± std. dev. of 7 runs, 10000 loops each)\n",
      "18.8 µs ± 1.91 µs per loop (mean ± std. dev. of 7 runs, 10000 loops each)\n",
      "17.9 µs ± 441 ns per loop (mean ± std. dev. of 7 runs, 10000 loops each)\n",
      "19.4 µs ± 308 ns per loop (mean ± std. dev. of 7 runs, 100000 loops each)\n",
      "18.9 µs ± 473 ns per loop (mean ± std. dev. of 7 runs, 10000 loops each)\n",
      "18.6 µs ± 882 ns per loop (mean ± std. dev. of 7 runs, 10000 loops each)\n",
      "19.1 µs ± 236 ns per loop (mean ± std. dev. of 7 runs, 100000 loops each)\n",
      "18.9 µs ± 871 ns per loop (mean ± std. dev. of 7 runs, 100000 loops each)\n",
      "19.2 µs ± 327 ns per loop (mean ± std. dev. of 7 runs, 100000 loops each)\n",
      "18.4 µs ± 593 ns per loop (mean ± std. dev. of 7 runs, 100000 loops each)\n",
      "19 µs ± 900 ns per loop (mean ± std. dev. of 7 runs, 10000 loops each)\n",
      "19 µs ± 699 ns per loop (mean ± std. dev. of 7 runs, 10000 loops each)\n",
      "20.2 µs ± 2.16 µs per loop (mean ± std. dev. of 7 runs, 10000 loops each)\n",
      "19.2 µs ± 474 ns per loop (mean ± std. dev. of 7 runs, 100000 loops each)\n",
      "18.9 µs ± 529 ns per loop (mean ± std. dev. of 7 runs, 10000 loops each)\n",
      "20.5 µs ± 2.23 µs per loop (mean ± std. dev. of 7 runs, 100000 loops each)\n",
      "19.6 µs ± 627 ns per loop (mean ± std. dev. of 7 runs, 100000 loops each)\n",
      "19.1 µs ± 827 ns per loop (mean ± std. dev. of 7 runs, 10000 loops each)\n",
      "19 µs ± 626 ns per loop (mean ± std. dev. of 7 runs, 10000 loops each)\n",
      "19.1 µs ± 664 ns per loop (mean ± std. dev. of 7 runs, 10000 loops each)\n",
      "19.4 µs ± 1.21 µs per loop (mean ± std. dev. of 7 runs, 10000 loops each)\n",
      "18.9 µs ± 603 ns per loop (mean ± std. dev. of 7 runs, 100000 loops each)\n",
      "19.1 µs ± 540 ns per loop (mean ± std. dev. of 7 runs, 10000 loops each)\n",
      "18.8 µs ± 345 ns per loop (mean ± std. dev. of 7 runs, 10000 loops each)\n",
      "19.5 µs ± 949 ns per loop (mean ± std. dev. of 7 runs, 10000 loops each)\n",
      "18.9 µs ± 198 ns per loop (mean ± std. dev. of 7 runs, 100000 loops each)\n",
      "19.5 µs ± 965 ns per loop (mean ± std. dev. of 7 runs, 10000 loops each)\n",
      "19.7 µs ± 1.33 µs per loop (mean ± std. dev. of 7 runs, 10000 loops each)\n",
      "19.4 µs ± 620 ns per loop (mean ± std. dev. of 7 runs, 100000 loops each)\n",
      "19.4 µs ± 1.37 µs per loop (mean ± std. dev. of 7 runs, 10000 loops each)\n",
      "17.5 µs ± 28.5 ns per loop (mean ± std. dev. of 7 runs, 10000 loops each)\n",
      "20.4 µs ± 2.75 µs per loop (mean ± std. dev. of 7 runs, 10000 loops each)\n",
      "20.6 µs ± 1.71 µs per loop (mean ± std. dev. of 7 runs, 10000 loops each)\n",
      "20.1 µs ± 1.88 µs per loop (mean ± std. dev. of 7 runs, 10000 loops each)\n",
      "18.4 µs ± 374 ns per loop (mean ± std. dev. of 7 runs, 10000 loops each)\n",
      "19.1 µs ± 755 ns per loop (mean ± std. dev. of 7 runs, 100000 loops each)\n",
      "19.3 µs ± 867 ns per loop (mean ± std. dev. of 7 runs, 10000 loops each)\n",
      "18.6 µs ± 1.22 µs per loop (mean ± std. dev. of 7 runs, 10000 loops each)\n",
      "20.3 µs ± 1.55 µs per loop (mean ± std. dev. of 7 runs, 10000 loops each)\n",
      "18.8 µs ± 346 ns per loop (mean ± std. dev. of 7 runs, 10000 loops each)\n",
      "19.2 µs ± 660 ns per loop (mean ± std. dev. of 7 runs, 10000 loops each)\n",
      "19.1 µs ± 877 ns per loop (mean ± std. dev. of 7 runs, 10000 loops each)\n",
      "19.7 µs ± 870 ns per loop (mean ± std. dev. of 7 runs, 100000 loops each)\n",
      "19.9 µs ± 457 ns per loop (mean ± std. dev. of 7 runs, 100000 loops each)\n",
      "19.7 µs ± 965 ns per loop (mean ± std. dev. of 7 runs, 10000 loops each)\n",
      "19.3 µs ± 928 ns per loop (mean ± std. dev. of 7 runs, 100000 loops each)\n",
      "19.1 µs ± 416 ns per loop (mean ± std. dev. of 7 runs, 100000 loops each)\n",
      "18.7 µs ± 214 ns per loop (mean ± std. dev. of 7 runs, 10000 loops each)\n",
      "19.4 µs ± 373 ns per loop (mean ± std. dev. of 7 runs, 100000 loops each)\n",
      "19.3 µs ± 1.07 µs per loop (mean ± std. dev. of 7 runs, 10000 loops each)\n",
      "18.8 µs ± 476 ns per loop (mean ± std. dev. of 7 runs, 100000 loops each)\n",
      "19.8 µs ± 1.46 µs per loop (mean ± std. dev. of 7 runs, 10000 loops each)\n",
      "19.7 µs ± 917 ns per loop (mean ± std. dev. of 7 runs, 10000 loops each)\n",
      "18.5 µs ± 347 ns per loop (mean ± std. dev. of 7 runs, 10000 loops each)\n",
      "19 µs ± 365 ns per loop (mean ± std. dev. of 7 runs, 100000 loops each)\n",
      "18.9 µs ± 254 ns per loop (mean ± std. dev. of 7 runs, 100000 loops each)\n",
      "19.9 µs ± 1.43 µs per loop (mean ± std. dev. of 7 runs, 10000 loops each)\n",
      "18.8 µs ± 429 ns per loop (mean ± std. dev. of 7 runs, 10000 loops each)\n",
      "18.5 µs ± 567 ns per loop (mean ± std. dev. of 7 runs, 100000 loops each)\n",
      "19.2 µs ± 670 ns per loop (mean ± std. dev. of 7 runs, 10000 loops each)\n",
      "17.7 µs ± 321 ns per loop (mean ± std. dev. of 7 runs, 10000 loops each)\n",
      "17.7 µs ± 300 ns per loop (mean ± std. dev. of 7 runs, 10000 loops each)\n",
      "18.9 µs ± 394 ns per loop (mean ± std. dev. of 7 runs, 100000 loops each)\n",
      "18.9 µs ± 941 ns per loop (mean ± std. dev. of 7 runs, 10000 loops each)\n",
      "18.6 µs ± 245 ns per loop (mean ± std. dev. of 7 runs, 10000 loops each)\n",
      "19.4 µs ± 682 ns per loop (mean ± std. dev. of 7 runs, 100000 loops each)\n",
      "19.3 µs ± 401 ns per loop (mean ± std. dev. of 7 runs, 100000 loops each)\n",
      "18.9 µs ± 1.12 µs per loop (mean ± std. dev. of 7 runs, 10000 loops each)\n",
      "19.3 µs ± 668 ns per loop (mean ± std. dev. of 7 runs, 10000 loops each)\n",
      "19.1 µs ± 550 ns per loop (mean ± std. dev. of 7 runs, 100000 loops each)\n",
      "19.1 µs ± 353 ns per loop (mean ± std. dev. of 7 runs, 100000 loops each)\n",
      "19.7 µs ± 1.17 µs per loop (mean ± std. dev. of 7 runs, 10000 loops each)\n",
      "18.7 µs ± 591 ns per loop (mean ± std. dev. of 7 runs, 100000 loops each)\n",
      "20 µs ± 830 ns per loop (mean ± std. dev. of 7 runs, 100000 loops each)\n",
      "19.8 µs ± 1.01 µs per loop (mean ± std. dev. of 7 runs, 10000 loops each)\n",
      "19.6 µs ± 836 ns per loop (mean ± std. dev. of 7 runs, 10000 loops each)\n",
      "21.2 µs ± 2.1 µs per loop (mean ± std. dev. of 7 runs, 100000 loops each)\n",
      "19.6 µs ± 955 ns per loop (mean ± std. dev. of 7 runs, 100000 loops each)\n",
      "19.2 µs ± 1.53 µs per loop (mean ± std. dev. of 7 runs, 10000 loops each)\n",
      "20.4 µs ± 1.11 µs per loop (mean ± std. dev. of 7 runs, 100000 loops each)\n",
      "19.2 µs ± 709 ns per loop (mean ± std. dev. of 7 runs, 10000 loops each)\n",
      "18.9 µs ± 477 ns per loop (mean ± std. dev. of 7 runs, 10000 loops each)\n",
      "19.2 µs ± 204 ns per loop (mean ± std. dev. of 7 runs, 100000 loops each)\n",
      "19.8 µs ± 468 ns per loop (mean ± std. dev. of 7 runs, 100000 loops each)\n",
      "21.5 µs ± 2.74 µs per loop (mean ± std. dev. of 7 runs, 10000 loops each)\n",
      "19.4 µs ± 430 ns per loop (mean ± std. dev. of 7 runs, 100000 loops each)\n",
      "21.3 µs ± 2.96 µs per loop (mean ± std. dev. of 7 runs, 10000 loops each)\n",
      "19.7 µs ± 857 ns per loop (mean ± std. dev. of 7 runs, 100000 loops each)\n",
      "19.4 µs ± 1.02 µs per loop (mean ± std. dev. of 7 runs, 10000 loops each)\n",
      "19.4 µs ± 531 ns per loop (mean ± std. dev. of 7 runs, 100000 loops each)\n",
      "19 µs ± 491 ns per loop (mean ± std. dev. of 7 runs, 10000 loops each)\n",
      "19.8 µs ± 887 ns per loop (mean ± std. dev. of 7 runs, 100000 loops each)\n",
      "21.1 µs ± 1.85 µs per loop (mean ± std. dev. of 7 runs, 10000 loops each)\n",
      "20.2 µs ± 1.81 µs per loop (mean ± std. dev. of 7 runs, 10000 loops each)\n",
      "19.1 µs ± 210 ns per loop (mean ± std. dev. of 7 runs, 100000 loops each)\n",
      "19.2 µs ± 405 ns per loop (mean ± std. dev. of 7 runs, 100000 loops each)\n",
      "21.2 µs ± 2.37 µs per loop (mean ± std. dev. of 7 runs, 10000 loops each)\n",
      "19.4 µs ± 1.09 µs per loop (mean ± std. dev. of 7 runs, 10000 loops each)\n",
      "18.9 µs ± 385 ns per loop (mean ± std. dev. of 7 runs, 10000 loops each)\n",
      "19.2 µs ± 792 ns per loop (mean ± std. dev. of 7 runs, 10000 loops each)\n",
      "17.9 µs ± 398 ns per loop (mean ± std. dev. of 7 runs, 10000 loops each)\n",
      "20 µs ± 1.23 µs per loop (mean ± std. dev. of 7 runs, 10000 loops each)\n",
      "19.1 µs ± 564 ns per loop (mean ± std. dev. of 7 runs, 100000 loops each)\n",
      "19.7 µs ± 940 ns per loop (mean ± std. dev. of 7 runs, 10000 loops each)\n",
      "19.3 µs ± 515 ns per loop (mean ± std. dev. of 7 runs, 100000 loops each)\n"
     ]
    }
   ],
   "source": [
    "# try wiith while loop\n",
    "def latitudes(size):\n",
    "    latitudes = []\n",
    "    x = 0\n",
    "    while x < (size):\n",
    "        random_lat = %timeit np.random.uniform(-90.000, 90.000, size=1500)\n",
    "        latitudes.append(random_lat)\n",
    "        x += 1\n",
    "    return latitudes\n",
    "# Call the function with 1500.\n",
    "%timeit latitudes(1500)"
   ]
  },
  {
   "cell_type": "code",
   "execution_count": null,
   "id": "a023fd57",
   "metadata": {},
   "outputs": [],
   "source": [
    "# Create a set of random latitude and longitude combinations.\n",
    "lats = np.random.uniform(low=-90.000, high=90.000, size=1500)\n",
    "lngs = np.random.uniform(low=-180.000, high=180.000, size=1500)\n",
    "lat_lngs = zip(lats, lngs)\n",
    "lat_lngs"
   ]
  },
  {
   "cell_type": "code",
   "execution_count": null,
   "id": "a2df80e6",
   "metadata": {},
   "outputs": [],
   "source": []
  }
 ],
 "metadata": {
  "kernelspec": {
   "display_name": "PythonData",
   "language": "python",
   "name": "pythondata"
  },
  "language_info": {
   "codemirror_mode": {
    "name": "ipython",
    "version": 3
   },
   "file_extension": ".py",
   "mimetype": "text/x-python",
   "name": "python",
   "nbconvert_exporter": "python",
   "pygments_lexer": "ipython3",
   "version": "3.7.11"
  }
 },
 "nbformat": 4,
 "nbformat_minor": 5
}
